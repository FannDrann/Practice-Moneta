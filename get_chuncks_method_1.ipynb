{
  "cells": [
    {
      "cell_type": "code",
      "execution_count": 1,
      "id": "ace22fbf",
      "metadata": {
        "colab": {
          "base_uri": "https://localhost:8080/"
        },
        "id": "ace22fbf",
        "outputId": "a40140a6-c985-47ed-db9e-07206b7b1eba"
      },
      "outputs": [
        {
          "name": "stdout",
          "output_type": "stream",
          "text": [
            "Requirement already satisfied: requests in /usr/local/lib/python3.11/dist-packages (2.32.3)\n",
            "Requirement already satisfied: charset-normalizer<4,>=2 in /usr/local/lib/python3.11/dist-packages (from requests) (3.4.2)\n",
            "Requirement already satisfied: idna<4,>=2.5 in /usr/local/lib/python3.11/dist-packages (from requests) (3.10)\n",
            "Requirement already satisfied: urllib3<3,>=1.21.1 in /usr/local/lib/python3.11/dist-packages (from requests) (2.4.0)\n",
            "Requirement already satisfied: certifi>=2017.4.17 in /usr/local/lib/python3.11/dist-packages (from requests) (2025.6.15)\n"
          ]
        }
      ],
      "source": [
        "! pip3 install requests"
      ]
    },
    {
      "cell_type": "code",
      "execution_count": 2,
      "id": "87ace2a6",
      "metadata": {
        "id": "87ace2a6"
      },
      "outputs": [],
      "source": [
        "import requests\n",
        "import json\n",
        "import os"
      ]
    },
    {
      "cell_type": "code",
      "execution_count": null,
      "id": "b7c4cbfb",
      "metadata": {
        "id": "b7c4cbfb"
      },
      "outputs": [],
      "source": [
        "API_KEY = \"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\"\n",
        "MAX_CHUNK_SIZE = 3000"
      ]
    },
    {
      "cell_type": "code",
      "execution_count": 4,
      "id": "801f5e99",
      "metadata": {
        "id": "801f5e99"
      },
      "outputs": [],
      "source": [
        "def llm_request(prompt: str, api_key: str) -> str:\n",
        "  try:\n",
        "    response = requests.post(\n",
        "        url=\"https://openrouter.ai/api/v1/chat/completions\",\n",
        "        headers={\n",
        "            \"Authorization\": f\"Bearer {api_key}\",\n",
        "            \"Content-Type\": \"application/json\",\n",
        "        },\n",
        "        data=json.dumps({\n",
        "            \"model\": \"deepseek/deepseek-r1-0528:free\",\n",
        "            \"messages\": [{\"role\": \"user\", \"content\": prompt}],\n",
        "        })\n",
        "    )\n",
        "\n",
        "    if response.status_code == 200:\n",
        "        return response.json()['choices'][0]['message']['content']\n",
        "    else:\n",
        "        return f\"Ошибка {response.status_code}: {response.text}\"\n",
        "\n",
        "  except Exception as e:\n",
        "    return f\"Ошибка при запросе: {str(e)}\""
      ]
    },
    {
      "cell_type": "code",
      "execution_count": null,
      "id": "284d8df5",
      "metadata": {
        "id": "284d8df5"
      },
      "outputs": [],
      "source": [
        "def process_text(text: str, source: str = \"local_text\"):\n",
        "    \"\"\"Основная функция обработки текста\"\"\"\n",
        "    prompt = f\"\"\"Раздели текст ниже на части по следующим правилам:\n",
        "1. Максимальный размер чанка - {MAX_CHUNK_SIZE} символов\n",
        "2. Разделяй ТОЛЬКО по границам абзацев (двойной перенос строки)\n",
        "3. чанк должен включать в себя полностью целые абзацы, недопустимо, чтобы абзац начинался в одном чанке, а заканчивался в другом; если размер абзаца больше, чем {MAX_CHUNK_SIZE} - включаем его целиком в чанк;\n",
        "3. Не добавляй никаких заголовков, подписей или комментариев\n",
        "4. Между чанками используй строго разделитель \"|||||\"\n",
        "5. Сохраняй оригинальное форматирование\n",
        "6. Если встречается разделитель вида \"Страница 2 из 26\" то он игнорируется и дальнейши текст продолжает записываться в текущий чанк до тех пор, пока не будет превышен допустимый размер\n",
        "7. Разрешено не воспринимать фрагменты не имеющие смысловой нагрузки по типу: \"г. Йошкар-Ола, 2024\", \"Страница 2 из 26\" и т.д.\n",
        "\n",
        "Текст для обработки:\n",
        "{text}\"\"\"\n",
        "\n",
        "    response = llm_request(prompt, API_KEY)\n",
        "\n",
        "    if not response:\n",
        "        return\n",
        "\n",
        "    chunks = [chunk.strip() for chunk in response.split(\"|||||\") if chunk.strip()]\n",
        "\n",
        "    for i, chunk in enumerate(chunks, 1):\n",
        "        chunk_data = {\n",
        "            \"id\": f\"chunk_{i:02d}\",\n",
        "            \"source\": source,\n",
        "            \"content\": chunk,\n",
        "            \"size\": len(chunk)\n",
        "        }\n",
        "        with open(f\"./chunks/chunk_{i:02d}.json\", \"w\", encoding=\"utf-8\") as f:\n",
        "            json.dump(chunk_data, f, ensure_ascii=False, indent=2)"
      ]
    },
    {
      "cell_type": "code",
      "execution_count": 6,
      "id": "Iis87EPLi5jY",
      "metadata": {
        "colab": {
          "base_uri": "https://localhost:8080/"
        },
        "id": "Iis87EPLi5jY",
        "outputId": "6dd64a53-32ab-4f32-f29a-9f0756707296"
      },
      "outputs": [
        {
          "name": "stdout",
          "output_type": "stream",
          "text": [
            "Collecting PyPDF2\n",
            "  Downloading pypdf2-3.0.1-py3-none-any.whl.metadata (6.8 kB)\n",
            "Downloading pypdf2-3.0.1-py3-none-any.whl (232 kB)\n",
            "\u001b[?25l   \u001b[90m━━━━━━━━━━━━━━━━━━━━━━━━━━━━━━━━━━━━━━━━\u001b[0m \u001b[32m0.0/232.6 kB\u001b[0m \u001b[31m?\u001b[0m eta \u001b[36m-:--:--\u001b[0m\r\u001b[2K   \u001b[90m━━━━━━━━━━━━━━━━━━━━━━━━━━━━━━━━━━━━━━━━\u001b[0m \u001b[32m232.6/232.6 kB\u001b[0m \u001b[31m15.1 MB/s\u001b[0m eta \u001b[36m0:00:00\u001b[0m\n",
            "\u001b[?25hInstalling collected packages: PyPDF2\n",
            "Successfully installed PyPDF2-3.0.1\n"
          ]
        }
      ],
      "source": [
        "! pip3 install PyPDF2"
      ]
    },
    {
      "cell_type": "code",
      "execution_count": null,
      "id": "143f5324",
      "metadata": {
        "id": "143f5324"
      },
      "outputs": [],
      "source": [
        "import PyPDF2\n",
        "def read_text_from_pdf(pdf_file_path: str):\n",
        "    if not os.path.exists(pdf_file_path) or not pdf_file_path.lower().endswith(\".pdf\"):\n",
        "        return \"\"\n",
        "    with open(pdf_file_path, 'rb') as file:\n",
        "        reader = PyPDF2.PdfReader(file)\n",
        "        text = ''.join(page.extract_text() for page in reader.pages)\n",
        "    return text"
      ]
    },
    {
      "cell_type": "code",
      "execution_count": 1,
      "id": "4532af4d",
      "metadata": {},
      "outputs": [
        {
          "name": "stdout",
          "output_type": "stream",
          "text": [
            "An error occurred: Invalid URL 'YOUR PDF URL': No scheme supplied. Perhaps you meant https://YOUR PDF URL?\n"
          ]
        }
      ],
      "source": [
        "url = 'YOUR PDF URL'\n",
        "local_filename = 'text.pdf'\n",
        "\n",
        "import requests\n",
        "\n",
        "try:\n",
        "    response = requests.get(url)\n",
        "\n",
        "    if response.status_code == 200:\n",
        "        with open(local_filename, 'wb') as f:\n",
        "            f.write(response.content)\n",
        "        print(f'Document downloaded successfully and saved as {local_filename}')\n",
        "    else:\n",
        "        print(f'Failed to retrieve document. Status code: {response.status_code}')\n",
        "except Exception as e:\n",
        "    print(f'An error occurred: {e}')"
      ]
    },
    {
      "cell_type": "code",
      "execution_count": 14,
      "id": "b35d1eee",
      "metadata": {
        "id": "b35d1eee"
      },
      "outputs": [],
      "source": [
        "os.makedirs('./chunks', exist_ok=True)\n",
        "text = read_text_from_pdf('monetaoffer.pdf')"
      ]
    },
    {
      "cell_type": "code",
      "execution_count": 15,
      "id": "bz11lgMtnRtx",
      "metadata": {
        "id": "bz11lgMtnRtx"
      },
      "outputs": [],
      "source": [
        "with open('./res.txt', 'w') as f:\n",
        "    f.write(text)"
      ]
    },
    {
      "cell_type": "code",
      "execution_count": 16,
      "id": "S4Vq76HYoJS2",
      "metadata": {
        "id": "S4Vq76HYoJS2"
      },
      "outputs": [],
      "source": [
        "process_text(text)"
      ]
    }
  ],
  "metadata": {
    "colab": {
      "provenance": []
    },
    "kernelspec": {
      "display_name": "Python 3",
      "language": "python",
      "name": "python3"
    },
    "language_info": {
      "codemirror_mode": {
        "name": "ipython",
        "version": 3
      },
      "file_extension": ".py",
      "mimetype": "text/x-python",
      "name": "python",
      "nbconvert_exporter": "python",
      "pygments_lexer": "ipython3",
      "version": "3.13.5"
    }
  },
  "nbformat": 4,
  "nbformat_minor": 5
}
